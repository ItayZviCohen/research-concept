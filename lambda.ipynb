{
 "cells": [
  {
   "cell_type": "code",
   "execution_count": 72,
   "metadata": {},
   "outputs": [
    {
     "name": "stdout",
     "output_type": "stream",
     "text": [
      "Number of potential bits: 74\n",
      "List of writing positions on a strand: [48497, 47891, 47286, 46668, 46051, 45412, 44803, 44188, 43489, 42772, 42144, 41403, 40763, 40015, 39408, 38712, 38076, 37435, 36681, 36060, 35424, 34816, 34212, 33591, 32974, 32364, 31697, 31088, 30473, 29801, 29089, 28471, 27705, 27059, 26425, 25742, 25116, 24422, 23791, 23104, 22402, 21732, 21036, 20431, 19786, 19136, 18509, 17885, 17145, 16523, 15814, 15191, 14525, 13907, 13277, 12572, 11970, 11267, 10567, 9949, 9284, 8670, 8061, 7422, 6727, 6045, 5382, 4636, 3952, 3269, 2602, 1977, 1307, 698]\n"
     ]
    }
   ],
   "source": [
    "from Bio import SeqIO\n",
    "import re\n",
    "import numpy as np\n",
    "\n",
    "seq = next(SeqIO.parse('./lambda.fasta',format='fasta')).seq\n",
    "\n",
    "max_cg_distance = 4\n",
    "regex = 'CG([CGAT]{0,' + str(max_cg_distance) + '})TT|TT([CGAT]{0,' + str(max_cg_distance) + '})CG'\n",
    "matches = [{'start':m.start(), 'end': m.end()} for m in re.finditer(regex,str(seq))]\n",
    "writing_pos = []\n",
    "\n",
    "first_bits_min_pos = 500\n",
    "gap_between_bits = 600\n",
    "gap_tol = 100\n",
    "\n",
    "dp_array = np.empty(len(matches),dtype=object)\n",
    "for n in range(len(dp_array)): dp_array[n] = -5\n",
    "\n",
    "dp_array[0] = 0\n",
    "\n",
    "for i in range(1,len(dp_array)):\n",
    "    for j,pos in enumerate(matches[:i]):\n",
    "        dist = matches[i]['start'] - pos['start']\n",
    "        if dist >= gap_between_bits and dist <= gap_between_bits + gap_tol and dp_array[j] != -5:\n",
    "            dp_array[i] = j\n",
    "\n",
    "backtrack_idx = len(dp_array) - 1\n",
    "solution = []\n",
    "\n",
    "while dp_array[backtrack_idx] == -5:\n",
    "    backtrack_idx -=1\n",
    "\n",
    "while backtrack_idx != 0:\n",
    "    while dp_array[backtrack_idx] == dp_array[backtrack_idx-1]: backtrack_idx -= 1\n",
    "    solution += [matches[backtrack_idx]]\n",
    "    backtrack_idx = dp_array[backtrack_idx]\n",
    "\n",
    "writing_pos = [s['start'] for s in solution]\n",
    "\n",
    "print(f'Number of potential bits: {len(writing_pos)}')\n",
    "print('List of writing positions on a strand:', writing_pos)"
   ]
  }
 ],
 "metadata": {
  "kernelspec": {
   "display_name": ".venv",
   "language": "python",
   "name": "python3"
  },
  "language_info": {
   "codemirror_mode": {
    "name": "ipython",
    "version": 3
   },
   "file_extension": ".py",
   "mimetype": "text/x-python",
   "name": "python",
   "nbconvert_exporter": "python",
   "pygments_lexer": "ipython3",
   "version": "3.10.15"
  }
 },
 "nbformat": 4,
 "nbformat_minor": 2
}
