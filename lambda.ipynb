{
 "cells": [
  {
   "cell_type": "code",
   "execution_count": 44,
   "metadata": {},
   "outputs": [
    {
     "name": "stdout",
     "output_type": "stream",
     "text": [
      "Number of potential bits: 74\n",
      "List of writing positions on a strand: [536, 1316, 1980, 2606, 3214, 3955, 4606, 5244, 5890, 6507, 7141, 7810, 8475, 9203, 9887, 10598, 11221, 11850, 12582, 13189, 13800, 14439, 15049, 15707, 16380, 17077, 17689, 18293, 18921, 19558, 20354, 21043, 21734, 22346, 23116, 23795, 24419, 25120, 25729, 26387, 26998, 27708, 28328, 28935, 29564, 30208, 30840, 31452, 32082, 32707, 33356, 33993, 34656, 35270, 36043, 36644, 37272, 37886, 38550, 39158, 39802, 40418, 41099, 41705, 42320, 43082, 43778, 44427, 45065, 45702, 46435, 47043, 47700, 48311]\n"
     ]
    }
   ],
   "source": [
    "from Bio import SeqIO\n",
    "import re\n",
    "\n",
    "seq = next(SeqIO.parse('./lambda.fasta',format='fasta')).seq\n",
    "\n",
    "matches = re.finditer('TT([CGAT]{0,8})CG',str(seq))\n",
    "\n",
    "writing_pos = []\n",
    "\n",
    "first_bits_min_pos = 500\n",
    "gap_between_bits = 600\n",
    "range_of_gap = 200\n",
    "\n",
    "for match in matches:\n",
    "    match_center = int((match.end() + match.start()) / 2 )\n",
    "    if writing_pos == []:\n",
    "        if match_center > first_bits_min_pos: writing_pos += [match_center]\n",
    "    elif match_center - gap_between_bits > writing_pos[-1]: writing_pos += [match_center]\n",
    "    \n",
    "for i,pos in enumerate(writing_pos[1:]):\n",
    "    if pos - writing_pos[i] > gap_between_bits + range_of_gap:\n",
    "        print(f'Problematic gap: {pos} - {writing_pos[i]} = {pos - writing_pos[i]}')   \n",
    "\n",
    "print(f'Number of potential bits: {len(writing_pos)}')\n",
    "print('List of writing positions on a strand:', writing_pos)"
   ]
  }
 ],
 "metadata": {
  "kernelspec": {
   "display_name": ".venv",
   "language": "python",
   "name": "python3"
  },
  "language_info": {
   "codemirror_mode": {
    "name": "ipython",
    "version": 3
   },
   "file_extension": ".py",
   "mimetype": "text/x-python",
   "name": "python",
   "nbconvert_exporter": "python",
   "pygments_lexer": "ipython3",
   "version": "3.10.15"
  }
 },
 "nbformat": 4,
 "nbformat_minor": 2
}
