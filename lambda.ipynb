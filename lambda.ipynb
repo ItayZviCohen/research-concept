{
 "cells": [
  {
   "cell_type": "code",
   "execution_count": 61,
   "metadata": {},
   "outputs": [
    {
     "name": "stdout",
     "output_type": "stream",
     "text": [
      "72\n",
      "[536, 1380, 1997, 2606, 3214, 3955, 4606, 5244, 5890, 6532, 7141, 7810, 8475, 9200, 10105, 10723, 11327, 12068, 12679, 13399, 14069, 14703, 15347, 16038, 16658, 17321, 18048, 18667, 19377, 20354, 21043, 21734, 22343, 23160, 23795, 24419, 25120, 25725, 26387, 27013, 27708, 28332, 28935, 29564, 30208, 30809, 31453, 32086, 32708, 33375, 33993, 34656, 35270, 36062, 36751, 37449, 38192, 38804, 39410, 40018, 40664, 41307, 41925, 42635, 43278, 43913, 44521, 45215, 45817, 46486, 47290, 48086]\n"
     ]
    }
   ],
   "source": [
    "from Bio import SeqIO\n",
    "import re\n",
    "\n",
    "seq = next(SeqIO.parse('./lambda.fasta',format='fasta')).seq\n",
    "\n",
    "matches = re.finditer('TT([CGAT]{0,6})CG',str(seq))\n",
    "\n",
    "writing_pos = []\n",
    "\n",
    "first_bits_min_pos = 500\n",
    "gap_between_bits = 600\n",
    "\n",
    "for match in matches:\n",
    "    match_center = int((match.end() + match.start()) / 2 )\n",
    "    if writing_pos == []:\n",
    "        if match_center > first_bits_min_pos: writing_pos += [match_center]\n",
    "    elif match_center - gap_between_bits > writing_pos[-1]: writing_pos += [match_center]\n",
    "    \n",
    "print(len(writing_pos))\n",
    "print(writing_pos)"
   ]
  },
  {
   "cell_type": "code",
   "execution_count": null,
   "metadata": {},
   "outputs": [],
   "source": []
  }
 ],
 "metadata": {
  "kernelspec": {
   "display_name": ".venv",
   "language": "python",
   "name": "python3"
  },
  "language_info": {
   "codemirror_mode": {
    "name": "ipython",
    "version": 3
   },
   "file_extension": ".py",
   "mimetype": "text/x-python",
   "name": "python",
   "nbconvert_exporter": "python",
   "pygments_lexer": "ipython3",
   "version": "3.10.15"
  }
 },
 "nbformat": 4,
 "nbformat_minor": 2
}
