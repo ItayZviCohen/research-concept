{
 "cells": [
  {
   "cell_type": "code",
   "execution_count": 70,
   "metadata": {},
   "outputs": [
    {
     "name": "stdout",
     "output_type": "stream",
     "text": [
      "Number of potential bits: 75\n",
      "List of writing positions on a strand: [48307, 47696, 46951, 46337, 45700, 45059, 44416, 43764, 43146, 42494, 41872, 41166, 40537, 39834, 39232, 38544, 37880, 37258, 36648, 36047, 35424, 34815, 34212, 33591, 32974, 32364, 31690, 31088, 30473, 29799, 29089, 28468, 27705, 27052, 26425, 25742, 25116, 24460, 23791, 23104, 22402, 21732, 21036, 20431, 19786, 19136, 18509, 17864, 17145, 16523, 15807, 15160, 14525, 13907, 13277, 12675, 12065, 11447, 10766, 10101, 9499, 8894, 8250, 7645, 7026, 6350, 5706, 5096, 4496, 3890, 3269, 2602, 1977, 1307, 625]\n"
     ]
    }
   ],
   "source": [
    "from Bio import SeqIO\n",
    "import re\n",
    "import numpy as np\n",
    "\n",
    "seq = next(SeqIO.parse('./lambda.fasta',format='fasta')).seq\n",
    "\n",
    "max_cg_distance = 5\n",
    "regex = 'CG([CGAT]{0,' + str(max_cg_distance) + '})TT|TT([CGAT]{0,' + str(max_cg_distance) + '})CG'\n",
    "matches = [{'start':m.start(), 'end': m.end()} for m in re.finditer(regex,str(seq))]\n",
    "writing_pos = []\n",
    "\n",
    "first_bits_min_pos = 500\n",
    "gap_between_bits = 600\n",
    "gap_tol = 100\n",
    "\n",
    "dp_array = np.empty(len(matches),dtype=object)\n",
    "for n in range(len(dp_array)): dp_array[n] = -5\n",
    "\n",
    "dp_array[0] = 0\n",
    "\n",
    "for i in range(1,len(dp_array)):\n",
    "    for j,pos in enumerate(matches[:i]):\n",
    "        dist = matches[i]['start'] - pos['start']\n",
    "        if dist >= gap_between_bits and dist <= gap_between_bits + gap_tol and dp_array[j] != -5:\n",
    "            dp_array[i] = j\n",
    "\n",
    "backtrack_idx = len(dp_array) - 1\n",
    "solution = []\n",
    "\n",
    "while dp_array[backtrack_idx] == -5:\n",
    "    backtrack_idx -=1\n",
    "\n",
    "while backtrack_idx != 0:\n",
    "    while dp_array[backtrack_idx] == dp_array[backtrack_idx-1]: backtrack_idx -= 1\n",
    "    solution += [matches[backtrack_idx]]\n",
    "    backtrack_idx = dp_array[backtrack_idx]\n",
    "\n",
    "writing_pos = [s['start'] for s in solution]\n",
    "\n",
    "print(f'Number of potential bits: {len(writing_pos)}')\n",
    "print('List of writing positions on a strand:', writing_pos)"
   ]
  }
 ],
 "metadata": {
  "kernelspec": {
   "display_name": ".venv",
   "language": "python",
   "name": "python3"
  },
  "language_info": {
   "codemirror_mode": {
    "name": "ipython",
    "version": 3
   },
   "file_extension": ".py",
   "mimetype": "text/x-python",
   "name": "python",
   "nbconvert_exporter": "python",
   "pygments_lexer": "ipython3",
   "version": "3.10.15"
  }
 },
 "nbformat": 4,
 "nbformat_minor": 2
}
